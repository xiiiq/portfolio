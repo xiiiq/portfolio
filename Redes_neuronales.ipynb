{
  "cells": [
    {
      "cell_type": "markdown",
      "metadata": {
        "id": "view-in-github",
        "colab_type": "text"
      },
      "source": [
        "<a href=\"https://colab.research.google.com/github/xiiiq/portfolio/blob/main/Redes_neuronales.ipynb\" target=\"_parent\"><img src=\"https://colab.research.google.com/assets/colab-badge.svg\" alt=\"Open In Colab\"/></a>"
      ]
    },
    {
      "cell_type": "markdown",
      "id": "6e317bcf-3b1a-45ca-8505-8472b270353f",
      "metadata": {
        "id": "6e317bcf-3b1a-45ca-8505-8472b270353f"
      },
      "source": [
        "# <font color=\"#004D7F\" size=5>Caso práctico</font>\n",
        "\n",
        "El objetivo de este caso práctico es simular como se haría un análisis completo de un problema para resolverlo con Deep Learning. Nos pondremos en la piel de un *data scientist* dedicado a analizar y crear modelos de Deep Learning para pasarlos a producción y ser desplegados en una aplicación.\n",
        "\n",
        "**Destacar que este caso práctico es la continuación de la última actividad realizada en la semana anterior. En la actividad de la semana anterior encontramos la mejor arquitectura para los datos que tenemos y ahora vmoas a realizar más experimentos jugando con los optimizers y el valor del learning rate.**\n",
        "\n",
        "Imaginemos que tenemos un dataset completo que queremos explotar, nuestra labor será coger este dataset (California Housing Dataset) y desde 0 intentar llegar conseguir un modelo que tenga un buen rendimiento ajustándolo poco a poco como hemos visto en clase. Por lo que tendrmeos que entrerar distintas redes y comparar los resultados que obtengamos en cada experimento para ver cual es mejor.\n",
        "\n",
        "Cada experimento que tendremos que realizar estará bien definido, la red que deberéis crear y entrenar será proporcinada por lo que solamente tendréis que crear la red que se nos indica con TensorFlow y realizar el entrenamiento de la misma.\n",
        "\n",
        "## <font color=\"#004D7F\" size=4>Parte obligatoria</font>\n",
        "\n",
        "Será obligatorio realizar cada uno de los ejercicios que están definidos. En cada ejercicio está definida la red que se tiene que crear y la configuración con la que se tiene que entrenar, por lo que solamente tendréis que pasar esa definición a código con TensorFlow.\n",
        "\n",
        "Para tener una buena práctica en la realización de este caso práctico se ofrecen esta recomendaciones:\n",
        "\n",
        "- Utiliza correctamente el sistema de celdas de jupyter. La libreta está realizada de tal forma que solo tendréis que completar las celdas que se indican, ya sea con código o con texto en markdown. Se recomienda rellenar solamente las celdas indicadas para que quede un informe limpio y fácil de seguir. Si fuera necesario incluir más celdas por cualquier motivo se puede hacer pero realizarlo con cuidado para no ensuciar demasiado la libreta.\n",
        "<br><br>\n",
        "- Las redes que tendréis que crear en cada experimento son las vistas en clase, por lo que os podéis inspirar en los ejemplos vistos en los tutoriales. Os recomiendo que no copiéis y peguéis código tal cual, sino que lo escribáis por vuestra cuenta y entendáis lo que estáis haciendo en cada momento. Tomaros el tiempo que haga falta para entender cada paso.\n",
        "<br><br>\n",
        "- Comprueba que todo se ejecuta correctamente antes de enviar tu trabajo. La mejor forma de enviarlo es exportando la libreta a pdf o html para enviarla en un formato más profesional.\n",
        "\n",
        "## <font color=\"#004D7F\" size=4>Parte opcional</font>\n",
        "La parte opcional son los últimos ejercicios donde tendréis que sacar una conclusión de si la red que habéis llegado a conseguir tiene un buen rendimiento.\n",
        "\n",
        "## <font color=\"#004D7F\" size=4>Objetivos</font>\n",
        "* Cargar y entender los datos del dataset California Housing con los que se trabajarán.\n",
        "* Crear cada una de las redes indicadas en los experimentos.\n",
        "* Entrenar cada una de las redes creadas en los experimentos.\n",
        "* Entender los resultados obtenidos en cada entrenamiento.\n",
        "\n",
        "## <font color=\"#004D7F\" size=4>Criterios de entrega</font>\n",
        "Se deberá entregar una libreta de jupyter, aunque se agradecerá que el formato entregado se html o pdf, el trabajo debe estar autocontenido, incluyendo código y texto explicativo para cada sección."
      ]
    },
    {
      "cell_type": "code",
      "execution_count": null,
      "id": "e063b23e-4fb9-42ea-b062-48b9657a0acd",
      "metadata": {
        "id": "e063b23e-4fb9-42ea-b062-48b9657a0acd"
      },
      "outputs": [],
      "source": [
        "import tensorflow as tf\n",
        "import numpy as np\n",
        "import pandas as pd\n",
        "\n",
        "# Para mostrar gráficas\n",
        "import matplotlib.pyplot as plt\n",
        "%matplotlib inline\n",
        "\n",
        "# Anaconda fixing problem\n",
        "import os\n",
        "os.environ['KMP_DUPLICATE_LIB_OK']='True'"
      ]
    },
    {
      "cell_type": "markdown",
      "id": "4f1aaf67-907f-4b6b-afeb-590f5e5b0e47",
      "metadata": {
        "id": "4f1aaf67-907f-4b6b-afeb-590f5e5b0e47"
      },
      "source": [
        "# <font color=\"#004D7F\" size=5>California Housing Dataset</font>\n",
        "En este notebook vamos a usar un dataset nuevo, el dataset es muy parecido al dataset del precio de las casas de boston. Esta vez vamos a utilizar un conjunto de datos que contienen información sobre el precio de las casas encontradas en un distrito de California. Las columnas son las siguientes:\n",
        "\n",
        "- _longitude_: cuanto de al oeste está una casa; un valor más alto está más al oeste.\n",
        "- _latitude_: cuanto de al norte está una casa; un valor más alto está más al norte.\n",
        "- _housing_median_age_: edad media de una casa; un valor bajo es una casa más nueva.\n",
        "- _total_rooms_: número total de habitaciones.\n",
        "- _total_bedrooms_: número total de dormitorios.\n",
        "- _population_: número total de personas que residen.\n",
        "- _households_: número total de hogares, un grupo de personas que residen dentro de una unidad de vivienda.\n",
        "- _median_income_: ingreso medio de los hogares dentro de un bloque de casas (medido en decenas de miles de dólares).\n",
        "- _ocean_proximity_: ubicación de la casa cerca del océano o mar.\n",
        "- _median_house_value (**variables a predecir**)_: valor medio de la vivienda (medido en dólares).\n",
        "\n",
        "Vamos a cargar los datos desde el fichero `housing.csv`:"
      ]
    },
    {
      "cell_type": "code",
      "execution_count": null,
      "id": "ad482b16-92bc-42a2-8515-cfc9d9018a81",
      "metadata": {
        "id": "ad482b16-92bc-42a2-8515-cfc9d9018a81"
      },
      "outputs": [],
      "source": [
        "df = pd.read_csv('housing.csv')"
      ]
    },
    {
      "cell_type": "code",
      "execution_count": null,
      "id": "815c3f5b-9019-4799-865c-25419f6814d1",
      "metadata": {
        "colab": {
          "base_uri": "https://localhost:8080/",
          "height": 206
        },
        "id": "815c3f5b-9019-4799-865c-25419f6814d1",
        "outputId": "655d87d2-713e-42bb-d4ee-89a697eb8602"
      },
      "outputs": [
        {
          "output_type": "execute_result",
          "data": {
            "text/plain": [
              "   longitude  latitude  housing_median_age  total_rooms  total_bedrooms  \\\n",
              "0    -122.23     37.88                41.0        880.0           129.0   \n",
              "1    -122.22     37.86                21.0       7099.0          1106.0   \n",
              "2    -122.24     37.85                52.0       1467.0           190.0   \n",
              "3    -122.25     37.85                52.0       1274.0           235.0   \n",
              "4    -122.25     37.85                52.0       1627.0           280.0   \n",
              "\n",
              "   population  households  median_income  ocean_proximity  median_house_value  \n",
              "0       322.0       126.0         8.3252                3            452600.0  \n",
              "1      2401.0      1138.0         8.3014                3            358500.0  \n",
              "2       496.0       177.0         7.2574                3            352100.0  \n",
              "3       558.0       219.0         5.6431                3            341300.0  \n",
              "4       565.0       259.0         3.8462                3            342200.0  "
            ],
            "text/html": [
              "\n",
              "  <div id=\"df-95d9cadd-aaf4-433f-9d54-2e3905bc452d\">\n",
              "    <div class=\"colab-df-container\">\n",
              "      <div>\n",
              "<style scoped>\n",
              "    .dataframe tbody tr th:only-of-type {\n",
              "        vertical-align: middle;\n",
              "    }\n",
              "\n",
              "    .dataframe tbody tr th {\n",
              "        vertical-align: top;\n",
              "    }\n",
              "\n",
              "    .dataframe thead th {\n",
              "        text-align: right;\n",
              "    }\n",
              "</style>\n",
              "<table border=\"1\" class=\"dataframe\">\n",
              "  <thead>\n",
              "    <tr style=\"text-align: right;\">\n",
              "      <th></th>\n",
              "      <th>longitude</th>\n",
              "      <th>latitude</th>\n",
              "      <th>housing_median_age</th>\n",
              "      <th>total_rooms</th>\n",
              "      <th>total_bedrooms</th>\n",
              "      <th>population</th>\n",
              "      <th>households</th>\n",
              "      <th>median_income</th>\n",
              "      <th>ocean_proximity</th>\n",
              "      <th>median_house_value</th>\n",
              "    </tr>\n",
              "  </thead>\n",
              "  <tbody>\n",
              "    <tr>\n",
              "      <th>0</th>\n",
              "      <td>-122.23</td>\n",
              "      <td>37.88</td>\n",
              "      <td>41.0</td>\n",
              "      <td>880.0</td>\n",
              "      <td>129.0</td>\n",
              "      <td>322.0</td>\n",
              "      <td>126.0</td>\n",
              "      <td>8.3252</td>\n",
              "      <td>3</td>\n",
              "      <td>452600.0</td>\n",
              "    </tr>\n",
              "    <tr>\n",
              "      <th>1</th>\n",
              "      <td>-122.22</td>\n",
              "      <td>37.86</td>\n",
              "      <td>21.0</td>\n",
              "      <td>7099.0</td>\n",
              "      <td>1106.0</td>\n",
              "      <td>2401.0</td>\n",
              "      <td>1138.0</td>\n",
              "      <td>8.3014</td>\n",
              "      <td>3</td>\n",
              "      <td>358500.0</td>\n",
              "    </tr>\n",
              "    <tr>\n",
              "      <th>2</th>\n",
              "      <td>-122.24</td>\n",
              "      <td>37.85</td>\n",
              "      <td>52.0</td>\n",
              "      <td>1467.0</td>\n",
              "      <td>190.0</td>\n",
              "      <td>496.0</td>\n",
              "      <td>177.0</td>\n",
              "      <td>7.2574</td>\n",
              "      <td>3</td>\n",
              "      <td>352100.0</td>\n",
              "    </tr>\n",
              "    <tr>\n",
              "      <th>3</th>\n",
              "      <td>-122.25</td>\n",
              "      <td>37.85</td>\n",
              "      <td>52.0</td>\n",
              "      <td>1274.0</td>\n",
              "      <td>235.0</td>\n",
              "      <td>558.0</td>\n",
              "      <td>219.0</td>\n",
              "      <td>5.6431</td>\n",
              "      <td>3</td>\n",
              "      <td>341300.0</td>\n",
              "    </tr>\n",
              "    <tr>\n",
              "      <th>4</th>\n",
              "      <td>-122.25</td>\n",
              "      <td>37.85</td>\n",
              "      <td>52.0</td>\n",
              "      <td>1627.0</td>\n",
              "      <td>280.0</td>\n",
              "      <td>565.0</td>\n",
              "      <td>259.0</td>\n",
              "      <td>3.8462</td>\n",
              "      <td>3</td>\n",
              "      <td>342200.0</td>\n",
              "    </tr>\n",
              "  </tbody>\n",
              "</table>\n",
              "</div>\n",
              "      <button class=\"colab-df-convert\" onclick=\"convertToInteractive('df-95d9cadd-aaf4-433f-9d54-2e3905bc452d')\"\n",
              "              title=\"Convert this dataframe to an interactive table.\"\n",
              "              style=\"display:none;\">\n",
              "        \n",
              "  <svg xmlns=\"http://www.w3.org/2000/svg\" height=\"24px\"viewBox=\"0 0 24 24\"\n",
              "       width=\"24px\">\n",
              "    <path d=\"M0 0h24v24H0V0z\" fill=\"none\"/>\n",
              "    <path d=\"M18.56 5.44l.94 2.06.94-2.06 2.06-.94-2.06-.94-.94-2.06-.94 2.06-2.06.94zm-11 1L8.5 8.5l.94-2.06 2.06-.94-2.06-.94L8.5 2.5l-.94 2.06-2.06.94zm10 10l.94 2.06.94-2.06 2.06-.94-2.06-.94-.94-2.06-.94 2.06-2.06.94z\"/><path d=\"M17.41 7.96l-1.37-1.37c-.4-.4-.92-.59-1.43-.59-.52 0-1.04.2-1.43.59L10.3 9.45l-7.72 7.72c-.78.78-.78 2.05 0 2.83L4 21.41c.39.39.9.59 1.41.59.51 0 1.02-.2 1.41-.59l7.78-7.78 2.81-2.81c.8-.78.8-2.07 0-2.86zM5.41 20L4 18.59l7.72-7.72 1.47 1.35L5.41 20z\"/>\n",
              "  </svg>\n",
              "      </button>\n",
              "      \n",
              "  <style>\n",
              "    .colab-df-container {\n",
              "      display:flex;\n",
              "      flex-wrap:wrap;\n",
              "      gap: 12px;\n",
              "    }\n",
              "\n",
              "    .colab-df-convert {\n",
              "      background-color: #E8F0FE;\n",
              "      border: none;\n",
              "      border-radius: 50%;\n",
              "      cursor: pointer;\n",
              "      display: none;\n",
              "      fill: #1967D2;\n",
              "      height: 32px;\n",
              "      padding: 0 0 0 0;\n",
              "      width: 32px;\n",
              "    }\n",
              "\n",
              "    .colab-df-convert:hover {\n",
              "      background-color: #E2EBFA;\n",
              "      box-shadow: 0px 1px 2px rgba(60, 64, 67, 0.3), 0px 1px 3px 1px rgba(60, 64, 67, 0.15);\n",
              "      fill: #174EA6;\n",
              "    }\n",
              "\n",
              "    [theme=dark] .colab-df-convert {\n",
              "      background-color: #3B4455;\n",
              "      fill: #D2E3FC;\n",
              "    }\n",
              "\n",
              "    [theme=dark] .colab-df-convert:hover {\n",
              "      background-color: #434B5C;\n",
              "      box-shadow: 0px 1px 3px 1px rgba(0, 0, 0, 0.15);\n",
              "      filter: drop-shadow(0px 1px 2px rgba(0, 0, 0, 0.3));\n",
              "      fill: #FFFFFF;\n",
              "    }\n",
              "  </style>\n",
              "\n",
              "      <script>\n",
              "        const buttonEl =\n",
              "          document.querySelector('#df-95d9cadd-aaf4-433f-9d54-2e3905bc452d button.colab-df-convert');\n",
              "        buttonEl.style.display =\n",
              "          google.colab.kernel.accessAllowed ? 'block' : 'none';\n",
              "\n",
              "        async function convertToInteractive(key) {\n",
              "          const element = document.querySelector('#df-95d9cadd-aaf4-433f-9d54-2e3905bc452d');\n",
              "          const dataTable =\n",
              "            await google.colab.kernel.invokeFunction('convertToInteractive',\n",
              "                                                     [key], {});\n",
              "          if (!dataTable) return;\n",
              "\n",
              "          const docLinkHtml = 'Like what you see? Visit the ' +\n",
              "            '<a target=\"_blank\" href=https://colab.research.google.com/notebooks/data_table.ipynb>data table notebook</a>'\n",
              "            + ' to learn more about interactive tables.';\n",
              "          element.innerHTML = '';\n",
              "          dataTable['output_type'] = 'display_data';\n",
              "          await google.colab.output.renderOutput(dataTable, element);\n",
              "          const docLink = document.createElement('div');\n",
              "          docLink.innerHTML = docLinkHtml;\n",
              "          element.appendChild(docLink);\n",
              "        }\n",
              "      </script>\n",
              "    </div>\n",
              "  </div>\n",
              "  "
            ]
          },
          "metadata": {},
          "execution_count": 3
        }
      ],
      "source": [
        "df.head()"
      ]
    },
    {
      "cell_type": "code",
      "execution_count": null,
      "id": "584e62e4-716b-4fe5-b093-8cd0897b1147",
      "metadata": {
        "colab": {
          "base_uri": "https://localhost:8080/"
        },
        "id": "584e62e4-716b-4fe5-b093-8cd0897b1147",
        "outputId": "61620b8c-cb47-48dc-c8bc-26dfe4b42cbd"
      },
      "outputs": [
        {
          "output_type": "execute_result",
          "data": {
            "text/plain": [
              "(20433, 10)"
            ]
          },
          "metadata": {},
          "execution_count": 4
        }
      ],
      "source": [
        "df.shape"
      ]
    },
    {
      "cell_type": "markdown",
      "id": "5dcbc720-9ae5-4573-b717-380fc57300db",
      "metadata": {
        "id": "5dcbc720-9ae5-4573-b717-380fc57300db"
      },
      "source": [
        "Vamos a separar la variable objetivo del resto de variables (accedemos al campo value para que los datos sean de tipo _numpy array_ y se puedan usar como variable de entrada de nuestra red):"
      ]
    },
    {
      "cell_type": "code",
      "execution_count": null,
      "id": "66f94dde-c456-4e7c-8d66-c29989a936d5",
      "metadata": {
        "colab": {
          "base_uri": "https://localhost:8080/"
        },
        "id": "66f94dde-c456-4e7c-8d66-c29989a936d5",
        "outputId": "07268026-9711-4da8-be6f-c4b8098683cc"
      },
      "outputs": [
        {
          "output_type": "execute_result",
          "data": {
            "text/plain": [
              "Index(['longitude', 'latitude', 'housing_median_age', 'total_rooms',\n",
              "       'total_bedrooms', 'population', 'households', 'median_income',\n",
              "       'ocean_proximity', 'median_house_value'],\n",
              "      dtype='object')"
            ]
          },
          "metadata": {},
          "execution_count": 5
        }
      ],
      "source": [
        "df.columns"
      ]
    },
    {
      "cell_type": "code",
      "execution_count": null,
      "id": "a3dc67f7-96c7-4d68-a9de-cd7e987d4317",
      "metadata": {
        "id": "a3dc67f7-96c7-4d68-a9de-cd7e987d4317"
      },
      "outputs": [],
      "source": [
        "x = df[['longitude', 'latitude', 'housing_median_age', 'total_rooms',\n",
        "       'total_bedrooms', 'population', 'households', 'median_income',\n",
        "       'ocean_proximity']].values\n",
        "y = df[['median_house_value']].values"
      ]
    },
    {
      "cell_type": "markdown",
      "id": "2c2083f7-4a8a-4d7e-8d84-29c7bc8ab5e4",
      "metadata": {
        "id": "2c2083f7-4a8a-4d7e-8d84-29c7bc8ab5e4"
      },
      "source": [
        "## 1. Establecer una función de coste adecuada a nuestro problema.\n",
        "\n",
        "En este caso, como es un problema de regresión y los valores de nuestros datos son tan grandes, elegimos la función de coste `mean_absolute_percentage_error`, este error varía entre los valores 100 y 0 donde 100 es el pero error que podemos llegar a tener y 0 es el mejor error, por lo que en nuestros entrenamientos buscaremos un error más cercano a 0."
      ]
    },
    {
      "cell_type": "code",
      "execution_count": null,
      "id": "ecce9bab-53be-4608-9ed1-22681a002b45",
      "metadata": {
        "id": "ecce9bab-53be-4608-9ed1-22681a002b45"
      },
      "outputs": [],
      "source": [
        "actual_loss = 'mean_absolute_percentage_error'"
      ]
    },
    {
      "cell_type": "markdown",
      "id": "de461a42-39f5-4e95-834b-3e44dd827b1e",
      "metadata": {
        "id": "de461a42-39f5-4e95-834b-3e44dd827b1e"
      },
      "source": [
        "## 2. Overfitting sobre un pequeño conjunto de datos.\n",
        "\n",
        "Ahora, como ya hemos visto en clase vamos a encontrar una estructura de red que encaje con los datos que vamos a utilizar. Vamos a crear varias redes a ver que talfuncionan.\n",
        "\n",
        "Para hacer entrenamientos rápidos y ver si la red se adapta a los datos vamos a usar solo un subconjunto de los datos, es decir usaremos 1000 datos y no usaremos conjunto de validación."
      ]
    },
    {
      "cell_type": "markdown",
      "id": "be35e870-17dc-4bd6-b980-dfc15407e273",
      "metadata": {
        "id": "be35e870-17dc-4bd6-b980-dfc15407e273"
      },
      "source": [
        "### <font color=\"#004D7F\" size=4>Ejercicio 1</font>\n",
        "\n",
        "Crear una red con la siguiente configuración y entrénala:\n",
        "\n",
        "- **Configuración de la red**:\n",
        "    - Arquitectura de la red:\n",
        "        - *1º Capa*: capa de entrada donde indiques la dimensión de los datos.\n",
        "        - *2º Capa*: capa densa con 8 neuronas y función de activación *relu*.\n",
        "        - *3º Capa*: capa densa con 8 neuronas y función de activación *relu*.\n",
        "        - *4º Capa*: capa de salida con una neurona sin función de activación.\n",
        "        \n",
        "    - Tipo de entrenamiento:\n",
        "        - *Epochs*: 30\n",
        "        - *Optimizador*: *adam*\n",
        "        - *Learning Rate*: 0.001"
      ]
    },
    {
      "cell_type": "code",
      "source": [
        "# Construimos la red\n",
        "model = tf.keras.models.Sequential([\n",
        "    tf.keras.layers.Input(shape=(9,)),  # Capa de entrada con la dimensión de los datos\n",
        "    tf.keras.layers.Dense(8, activation='relu'),\n",
        "    tf.keras.layers.Dense(8, activation='relu'),\n",
        "    tf.keras.layers.Dense(1)  # Capa de salida con una neurona sin función de activación\n",
        "])"
      ],
      "metadata": {
        "id": "tPPyxem-Mjno"
      },
      "execution_count": null,
      "outputs": [],
      "id": "tPPyxem-Mjno"
    },
    {
      "cell_type": "code",
      "source": [
        "# Compilamos la red\n",
        "model.compile(optimizer=tf.keras.optimizers.Adam(learning_rate=0.001),\n",
        "              loss=actual_loss,\n",
        "              metrics=[actual_loss])"
      ],
      "metadata": {
        "id": "Cou8ffdu9a9b"
      },
      "execution_count": null,
      "outputs": [],
      "id": "Cou8ffdu9a9b"
    },
    {
      "cell_type": "code",
      "source": [
        "# Entrenamos la red\n",
        "history = model.fit(x[:1000], y[:1000], epochs=30)"
      ],
      "metadata": {
        "colab": {
          "base_uri": "https://localhost:8080/"
        },
        "id": "qUB5UqQl9bWU",
        "outputId": "8966b45a-5165-415d-d29c-d81d8b37c0b4"
      },
      "execution_count": null,
      "outputs": [
        {
          "output_type": "stream",
          "name": "stdout",
          "text": [
            "Epoch 1/30\n",
            "32/32 [==============================] - 1s 2ms/step - loss: 100.2954 - mean_absolute_percentage_error: 100.2954\n",
            "Epoch 2/30\n",
            "32/32 [==============================] - 0s 2ms/step - loss: 99.8333 - mean_absolute_percentage_error: 99.8333\n",
            "Epoch 3/30\n",
            "32/32 [==============================] - 0s 2ms/step - loss: 99.3004 - mean_absolute_percentage_error: 99.3004\n",
            "Epoch 4/30\n",
            "32/32 [==============================] - 0s 2ms/step - loss: 98.6784 - mean_absolute_percentage_error: 98.6784\n",
            "Epoch 5/30\n",
            "32/32 [==============================] - 0s 2ms/step - loss: 97.9130 - mean_absolute_percentage_error: 97.9130\n",
            "Epoch 6/30\n",
            "32/32 [==============================] - 0s 2ms/step - loss: 96.8530 - mean_absolute_percentage_error: 96.8530\n",
            "Epoch 7/30\n",
            "32/32 [==============================] - 0s 2ms/step - loss: 95.4146 - mean_absolute_percentage_error: 95.4146\n",
            "Epoch 8/30\n",
            "32/32 [==============================] - 0s 2ms/step - loss: 93.6750 - mean_absolute_percentage_error: 93.6750\n",
            "Epoch 9/30\n",
            "32/32 [==============================] - 0s 2ms/step - loss: 91.4909 - mean_absolute_percentage_error: 91.4909\n",
            "Epoch 10/30\n",
            "32/32 [==============================] - 0s 2ms/step - loss: 88.7812 - mean_absolute_percentage_error: 88.7812\n",
            "Epoch 11/30\n",
            "32/32 [==============================] - 0s 2ms/step - loss: 85.4621 - mean_absolute_percentage_error: 85.4621\n",
            "Epoch 12/30\n",
            "32/32 [==============================] - 0s 2ms/step - loss: 81.4542 - mean_absolute_percentage_error: 81.4542\n",
            "Epoch 13/30\n",
            "32/32 [==============================] - 0s 2ms/step - loss: 76.8031 - mean_absolute_percentage_error: 76.8031\n",
            "Epoch 14/30\n",
            "32/32 [==============================] - 0s 2ms/step - loss: 71.9170 - mean_absolute_percentage_error: 71.9170\n",
            "Epoch 15/30\n",
            "32/32 [==============================] - 0s 2ms/step - loss: 66.6299 - mean_absolute_percentage_error: 66.6299\n",
            "Epoch 16/30\n",
            "32/32 [==============================] - 0s 2ms/step - loss: 61.2885 - mean_absolute_percentage_error: 61.2885\n",
            "Epoch 17/30\n",
            "32/32 [==============================] - 0s 2ms/step - loss: 56.3026 - mean_absolute_percentage_error: 56.3026\n",
            "Epoch 18/30\n",
            "32/32 [==============================] - 0s 2ms/step - loss: 52.1485 - mean_absolute_percentage_error: 52.1485\n",
            "Epoch 19/30\n",
            "32/32 [==============================] - 0s 2ms/step - loss: 49.0984 - mean_absolute_percentage_error: 49.0984\n",
            "Epoch 20/30\n",
            "32/32 [==============================] - 0s 2ms/step - loss: 47.1417 - mean_absolute_percentage_error: 47.1417\n",
            "Epoch 21/30\n",
            "32/32 [==============================] - 0s 2ms/step - loss: 46.1269 - mean_absolute_percentage_error: 46.1269\n",
            "Epoch 22/30\n",
            "32/32 [==============================] - 0s 2ms/step - loss: 45.6522 - mean_absolute_percentage_error: 45.6522\n",
            "Epoch 23/30\n",
            "32/32 [==============================] - 0s 2ms/step - loss: 45.3166 - mean_absolute_percentage_error: 45.3166\n",
            "Epoch 24/30\n",
            "32/32 [==============================] - 0s 2ms/step - loss: 45.1101 - mean_absolute_percentage_error: 45.1101\n",
            "Epoch 25/30\n",
            "32/32 [==============================] - 0s 2ms/step - loss: 44.9637 - mean_absolute_percentage_error: 44.9637\n",
            "Epoch 26/30\n",
            "32/32 [==============================] - 0s 2ms/step - loss: 44.8786 - mean_absolute_percentage_error: 44.8786\n",
            "Epoch 27/30\n",
            "32/32 [==============================] - 0s 2ms/step - loss: 44.8263 - mean_absolute_percentage_error: 44.8263\n",
            "Epoch 28/30\n",
            "32/32 [==============================] - 0s 2ms/step - loss: 44.7854 - mean_absolute_percentage_error: 44.7854\n",
            "Epoch 29/30\n",
            "32/32 [==============================] - 0s 2ms/step - loss: 44.7423 - mean_absolute_percentage_error: 44.7423\n",
            "Epoch 30/30\n",
            "32/32 [==============================] - 0s 2ms/step - loss: 44.7163 - mean_absolute_percentage_error: 44.7163\n"
          ]
        }
      ],
      "id": "qUB5UqQl9bWU"
    },
    {
      "cell_type": "markdown",
      "id": "fdb3cb0e-6ed1-4a13-a391-4166ef00b2ed",
      "metadata": {
        "id": "fdb3cb0e-6ed1-4a13-a391-4166ef00b2ed"
      },
      "source": [
        "### <font color=\"#004D7F\" size=4>Ejercicio 2</font>\n",
        "\n",
        "Vamos a complicar un poco más la arquitectura de la red:\n",
        "\n",
        "- **Configuración de la red**:\n",
        "    - Arquitectura de la red:\n",
        "        - *1º Capa*: capa de entrada donde indiques la dimensión de los datos.\n",
        "        - *2º Capa*: capa densa con 64 neuronas y función de activación *relu*.\n",
        "        - *3º Capa*: capa densa con 32 neuronas y función de activación *relu*.\n",
        "        - *4º Capa*: capa densa con 32 neuronas y función de activación *relu*.\n",
        "        - *5º Capa*: capa de salida con una neurona sin función de activación.\n",
        "        \n",
        "    - Tipo de entrenamiento:\n",
        "        - *Epochs*: 30\n",
        "        - *Optimizador*: *adam*\n",
        "        - *Learning Rate*: 0.001"
      ]
    },
    {
      "cell_type": "code",
      "source": [
        "# Construimos la red\n",
        "model = tf.keras.models.Sequential([\n",
        "    tf.keras.layers.Input(shape=(9,)),  # Capa de entrada con la dimensión de los datos\n",
        "    tf.keras.layers.Dense(64, activation='relu'),\n",
        "    tf.keras.layers.Dense(32, activation='relu'),\n",
        "    tf.keras.layers.Dense(32, activation='relu'),\n",
        "    tf.keras.layers.Dense(1)  # Capa de salida con una neurona sin función de activación\n",
        "])"
      ],
      "metadata": {
        "id": "jkZTo5dpDvOs"
      },
      "execution_count": null,
      "outputs": [],
      "id": "jkZTo5dpDvOs"
    },
    {
      "cell_type": "code",
      "source": [
        "# Compilamos la red\n",
        "model.compile(optimizer=tf.keras.optimizers.Adam(learning_rate=0.001),\n",
        "              loss=actual_loss,\n",
        "              metrics=[actual_loss])"
      ],
      "metadata": {
        "id": "6Y_EzW-pDvOu"
      },
      "execution_count": null,
      "outputs": [],
      "id": "6Y_EzW-pDvOu"
    },
    {
      "cell_type": "code",
      "source": [
        "# Entrenamos la red\n",
        "history = model.fit(x[:1000], y[:1000], epochs=30)"
      ],
      "metadata": {
        "colab": {
          "base_uri": "https://localhost:8080/"
        },
        "outputId": "682e9aab-2a10-4c2c-b8ef-d1f02a5882ff",
        "id": "trKz0jEmDvOv"
      },
      "execution_count": null,
      "outputs": [
        {
          "output_type": "stream",
          "name": "stdout",
          "text": [
            "Epoch 1/30\n",
            "32/32 [==============================] - 1s 2ms/step - loss: 99.9432 - mean_absolute_percentage_error: 99.9432\n",
            "Epoch 2/30\n",
            "32/32 [==============================] - 0s 2ms/step - loss: 98.9359 - mean_absolute_percentage_error: 98.9359\n",
            "Epoch 3/30\n",
            "32/32 [==============================] - 0s 2ms/step - loss: 93.1170 - mean_absolute_percentage_error: 93.1170\n",
            "Epoch 4/30\n",
            "32/32 [==============================] - 0s 2ms/step - loss: 71.4290 - mean_absolute_percentage_error: 71.4290\n",
            "Epoch 5/30\n",
            "32/32 [==============================] - 0s 2ms/step - loss: 46.3294 - mean_absolute_percentage_error: 46.3294\n",
            "Epoch 6/30\n",
            "32/32 [==============================] - 0s 2ms/step - loss: 44.8291 - mean_absolute_percentage_error: 44.8291\n",
            "Epoch 7/30\n",
            "32/32 [==============================] - 0s 2ms/step - loss: 44.4448 - mean_absolute_percentage_error: 44.4448\n",
            "Epoch 8/30\n",
            "32/32 [==============================] - 0s 2ms/step - loss: 44.1564 - mean_absolute_percentage_error: 44.1564\n",
            "Epoch 9/30\n",
            "32/32 [==============================] - 0s 2ms/step - loss: 43.7697 - mean_absolute_percentage_error: 43.7697\n",
            "Epoch 10/30\n",
            "32/32 [==============================] - 0s 3ms/step - loss: 43.4417 - mean_absolute_percentage_error: 43.4417\n",
            "Epoch 11/30\n",
            "32/32 [==============================] - 0s 2ms/step - loss: 43.1191 - mean_absolute_percentage_error: 43.1191\n",
            "Epoch 12/30\n",
            "32/32 [==============================] - 0s 2ms/step - loss: 42.5848 - mean_absolute_percentage_error: 42.5848\n",
            "Epoch 13/30\n",
            "32/32 [==============================] - 0s 2ms/step - loss: 42.1685 - mean_absolute_percentage_error: 42.1685\n",
            "Epoch 14/30\n",
            "32/32 [==============================] - 0s 2ms/step - loss: 41.6615 - mean_absolute_percentage_error: 41.6615\n",
            "Epoch 15/30\n",
            "32/32 [==============================] - 0s 2ms/step - loss: 41.2274 - mean_absolute_percentage_error: 41.2274\n",
            "Epoch 16/30\n",
            "32/32 [==============================] - 0s 2ms/step - loss: 40.5745 - mean_absolute_percentage_error: 40.5745\n",
            "Epoch 17/30\n",
            "32/32 [==============================] - 0s 2ms/step - loss: 39.9641 - mean_absolute_percentage_error: 39.9641\n",
            "Epoch 18/30\n",
            "32/32 [==============================] - 0s 2ms/step - loss: 39.3392 - mean_absolute_percentage_error: 39.3392\n",
            "Epoch 19/30\n",
            "32/32 [==============================] - 0s 2ms/step - loss: 38.7152 - mean_absolute_percentage_error: 38.7152\n",
            "Epoch 20/30\n",
            "32/32 [==============================] - 0s 2ms/step - loss: 37.9685 - mean_absolute_percentage_error: 37.9685\n",
            "Epoch 21/30\n",
            "32/32 [==============================] - 0s 2ms/step - loss: 36.9834 - mean_absolute_percentage_error: 36.9834\n",
            "Epoch 22/30\n",
            "32/32 [==============================] - 0s 2ms/step - loss: 35.9486 - mean_absolute_percentage_error: 35.9486\n",
            "Epoch 23/30\n",
            "32/32 [==============================] - 0s 2ms/step - loss: 34.9648 - mean_absolute_percentage_error: 34.9648\n",
            "Epoch 24/30\n",
            "32/32 [==============================] - 0s 2ms/step - loss: 33.9652 - mean_absolute_percentage_error: 33.9652\n",
            "Epoch 25/30\n",
            "32/32 [==============================] - 0s 2ms/step - loss: 32.9759 - mean_absolute_percentage_error: 32.9759\n",
            "Epoch 26/30\n",
            "32/32 [==============================] - 0s 2ms/step - loss: 32.1587 - mean_absolute_percentage_error: 32.1587\n",
            "Epoch 27/30\n",
            "32/32 [==============================] - 0s 2ms/step - loss: 31.0955 - mean_absolute_percentage_error: 31.0955\n",
            "Epoch 28/30\n",
            "32/32 [==============================] - 0s 2ms/step - loss: 30.1484 - mean_absolute_percentage_error: 30.1484\n",
            "Epoch 29/30\n",
            "32/32 [==============================] - 0s 2ms/step - loss: 29.8974 - mean_absolute_percentage_error: 29.8974\n",
            "Epoch 30/30\n",
            "32/32 [==============================] - 0s 2ms/step - loss: 28.8146 - mean_absolute_percentage_error: 28.8146\n"
          ]
        }
      ],
      "id": "trKz0jEmDvOv"
    },
    {
      "cell_type": "markdown",
      "id": "5a95d5de-4044-46f0-a5c1-18e9a1514c55",
      "metadata": {
        "id": "5a95d5de-4044-46f0-a5c1-18e9a1514c55"
      },
      "source": [
        "### <font color=\"#004D7F\" size=4>Ejercicio 3</font>\n",
        "\n",
        "Vamos a complicar aun más la arquitectura de la red:\n",
        "\n",
        "- **Configuración de la red**:\n",
        "    - Arquitectura de la red:\n",
        "        - *1º Capa*: capa de entrada donde indiques la dimensión de los datos.\n",
        "        - *2º Capa*: capa densa con 128 neuronas y función de activación *relu*.\n",
        "        - *3º Capa*: capa densa con 64 neuronas y función de activación *relu*.\n",
        "        - *4º Capa*: capa densa con 32 neuronas y función de activación *relu*.\n",
        "        - *5º Capa*: capa densa con 16 neuronas y función de activación *relu*.\n",
        "        - *6º Capa*: capa de salida con una neurona sin función de activación.\n",
        "        \n",
        "    - Tipo de entrenamiento:\n",
        "        - *Epochs*: 30\n",
        "        - *Optimizador*: *adam*\n",
        "        - *Learning Rate*: 0.001"
      ]
    },
    {
      "cell_type": "code",
      "source": [
        "# Construimos la red\n",
        "model = tf.keras.models.Sequential([\n",
        "    tf.keras.layers.Input(shape=(9,)),  # Capa de entrada con la dimensión de los datos\n",
        "    tf.keras.layers.Dense(128, activation='relu'),\n",
        "    tf.keras.layers.Dense(64, activation='relu'),\n",
        "    tf.keras.layers.Dense(32, activation='relu'),\n",
        "    tf.keras.layers.Dense(16, activation='relu'),\n",
        "    tf.keras.layers.Dense(1)  # Capa de salida con una neurona sin función de activación\n",
        "])"
      ],
      "metadata": {
        "id": "2W4Ix2rtD1vI"
      },
      "execution_count": null,
      "outputs": [],
      "id": "2W4Ix2rtD1vI"
    },
    {
      "cell_type": "code",
      "source": [
        "# Compilamos la red\n",
        "model.compile(optimizer=tf.keras.optimizers.Adam(learning_rate=0.001),\n",
        "              loss=actual_loss,\n",
        "              metrics=[actual_loss])"
      ],
      "metadata": {
        "id": "qZeeXPlDD1vK"
      },
      "execution_count": null,
      "outputs": [],
      "id": "qZeeXPlDD1vK"
    },
    {
      "cell_type": "code",
      "source": [
        "# Entrenamos la red\n",
        "history = model.fit(x[:1000], y[:1000], epochs=30)"
      ],
      "metadata": {
        "colab": {
          "base_uri": "https://localhost:8080/"
        },
        "outputId": "80ee620c-f1a3-4e3a-9106-17ec3568608a",
        "id": "foquPG4-D1vK"
      },
      "execution_count": null,
      "outputs": [
        {
          "output_type": "stream",
          "name": "stdout",
          "text": [
            "Epoch 1/30\n",
            "32/32 [==============================] - 2s 4ms/step - loss: 99.3933 - mean_absolute_percentage_error: 99.3933\n",
            "Epoch 2/30\n",
            "32/32 [==============================] - 0s 3ms/step - loss: 91.9080 - mean_absolute_percentage_error: 91.9080\n",
            "Epoch 3/30\n",
            "32/32 [==============================] - 0s 3ms/step - loss: 56.4011 - mean_absolute_percentage_error: 56.4011\n",
            "Epoch 4/30\n",
            "32/32 [==============================] - 0s 4ms/step - loss: 44.8165 - mean_absolute_percentage_error: 44.8165\n",
            "Epoch 5/30\n",
            "32/32 [==============================] - 0s 4ms/step - loss: 44.2623 - mean_absolute_percentage_error: 44.2623\n",
            "Epoch 6/30\n",
            "32/32 [==============================] - 0s 4ms/step - loss: 43.6252 - mean_absolute_percentage_error: 43.6252\n",
            "Epoch 7/30\n",
            "32/32 [==============================] - 0s 4ms/step - loss: 42.8788 - mean_absolute_percentage_error: 42.8788\n",
            "Epoch 8/30\n",
            "32/32 [==============================] - 0s 4ms/step - loss: 42.1521 - mean_absolute_percentage_error: 42.1521\n",
            "Epoch 9/30\n",
            "32/32 [==============================] - 0s 3ms/step - loss: 40.9327 - mean_absolute_percentage_error: 40.9327\n",
            "Epoch 10/30\n",
            "32/32 [==============================] - 0s 2ms/step - loss: 39.6776 - mean_absolute_percentage_error: 39.6776\n",
            "Epoch 11/30\n",
            "32/32 [==============================] - 0s 3ms/step - loss: 38.2105 - mean_absolute_percentage_error: 38.2105\n",
            "Epoch 12/30\n",
            "32/32 [==============================] - 0s 2ms/step - loss: 36.1111 - mean_absolute_percentage_error: 36.1111\n",
            "Epoch 13/30\n",
            "32/32 [==============================] - 0s 2ms/step - loss: 34.0083 - mean_absolute_percentage_error: 34.0083\n",
            "Epoch 14/30\n",
            "32/32 [==============================] - 0s 2ms/step - loss: 32.0760 - mean_absolute_percentage_error: 32.0760\n",
            "Epoch 15/30\n",
            "32/32 [==============================] - 0s 2ms/step - loss: 31.0215 - mean_absolute_percentage_error: 31.0215\n",
            "Epoch 16/30\n",
            "32/32 [==============================] - 0s 2ms/step - loss: 28.4866 - mean_absolute_percentage_error: 28.4866\n",
            "Epoch 17/30\n",
            "32/32 [==============================] - 0s 2ms/step - loss: 27.6722 - mean_absolute_percentage_error: 27.6722\n",
            "Epoch 18/30\n",
            "32/32 [==============================] - 0s 2ms/step - loss: 27.5718 - mean_absolute_percentage_error: 27.5718\n",
            "Epoch 19/30\n",
            "32/32 [==============================] - 0s 4ms/step - loss: 27.1835 - mean_absolute_percentage_error: 27.1835\n",
            "Epoch 20/30\n",
            "32/32 [==============================] - 0s 3ms/step - loss: 26.9119 - mean_absolute_percentage_error: 26.9119\n",
            "Epoch 21/30\n",
            "32/32 [==============================] - 0s 3ms/step - loss: 27.3805 - mean_absolute_percentage_error: 27.3805\n",
            "Epoch 22/30\n",
            "32/32 [==============================] - 0s 3ms/step - loss: 27.0310 - mean_absolute_percentage_error: 27.0310\n",
            "Epoch 23/30\n",
            "32/32 [==============================] - 0s 2ms/step - loss: 26.5564 - mean_absolute_percentage_error: 26.5564\n",
            "Epoch 24/30\n",
            "32/32 [==============================] - 0s 3ms/step - loss: 26.9114 - mean_absolute_percentage_error: 26.9114\n",
            "Epoch 25/30\n",
            "32/32 [==============================] - 0s 3ms/step - loss: 26.2264 - mean_absolute_percentage_error: 26.2264\n",
            "Epoch 26/30\n",
            "32/32 [==============================] - 0s 3ms/step - loss: 26.0623 - mean_absolute_percentage_error: 26.0623\n",
            "Epoch 27/30\n",
            "32/32 [==============================] - 0s 3ms/step - loss: 26.1630 - mean_absolute_percentage_error: 26.1630\n",
            "Epoch 28/30\n",
            "32/32 [==============================] - 0s 3ms/step - loss: 25.7257 - mean_absolute_percentage_error: 25.7257\n",
            "Epoch 29/30\n",
            "32/32 [==============================] - 0s 3ms/step - loss: 25.7409 - mean_absolute_percentage_error: 25.7409\n",
            "Epoch 30/30\n",
            "32/32 [==============================] - 0s 3ms/step - loss: 25.6371 - mean_absolute_percentage_error: 25.6371\n"
          ]
        }
      ],
      "id": "foquPG4-D1vK"
    },
    {
      "cell_type": "markdown",
      "id": "16c6b16e-38c3-4535-a833-6c7f30195d97",
      "metadata": {
        "id": "16c6b16e-38c3-4535-a833-6c7f30195d97"
      },
      "source": [
        "### <font color=\"#004D7F\" size=4>Ejercicio 4</font>\n",
        "\n",
        "Vamos a hacer una última red con más capas y neuronas:\n",
        "\n",
        "- **Configuración de la red**:\n",
        "    - Arquitectura de la red:\n",
        "        - *1º Capa*: capa de entrada donde indiques la dimensión de los datos.\n",
        "        - *2º Capa*: capa densa con 1024 neuronas y función de activación *relu*.\n",
        "        - *3º Capa*: capa densa con 512 neuronas y función de activación *relu*.\n",
        "        - *4º Capa*: capa densa con 256 neuronas y función de activación *relu*.\n",
        "        - *5º Capa*: capa densa con 128 neuronas y función de activación *relu*.\n",
        "        - *6º Capa*: capa densa con 64 neuronas y función de activación *relu*.\n",
        "        - *7º Capa*: capa densa con 32 neuronas y función de activación *relu*.\n",
        "        - *8º Capa*: capa densa con 16 neuronas y función de activación *relu*.\n",
        "        - *9º Capa*: capa de salida con una neurona sin función de activación.\n",
        "        \n",
        "    - Tipo de entrenamiento:\n",
        "        - *Epochs*: 30\n",
        "        - *Optimizador*: *adam*\n",
        "        - *Learning Rate*: 0.001"
      ]
    },
    {
      "cell_type": "code",
      "execution_count": null,
      "metadata": {
        "id": "XjrNIHhlEdMc"
      },
      "outputs": [],
      "source": [
        "# Construimos la red\n",
        "model = tf.keras.models.Sequential([\n",
        "    tf.keras.layers.Input(shape=(9,)),  # Capa de entrada con la dimensión de los datos\n",
        "    tf.keras.layers.Dense(1024, activation='relu'),\n",
        "    tf.keras.layers.Dense(512, activation='relu'),\n",
        "    tf.keras.layers.Dense(256, activation='relu'),\n",
        "    tf.keras.layers.Dense(128, activation='relu'),\n",
        "    tf.keras.layers.Dense(64, activation='relu'),\n",
        "    tf.keras.layers.Dense(32, activation='relu'),\n",
        "    tf.keras.layers.Dense(16, activation='relu'),\n",
        "    tf.keras.layers.Dense(1)  # Capa de salida con una neurona sin función de activación\n",
        "])"
      ],
      "id": "XjrNIHhlEdMc"
    },
    {
      "cell_type": "code",
      "source": [
        "# Compilamos la red\n",
        "model.compile(optimizer=tf.keras.optimizers.Adam(learning_rate=0.001),\n",
        "              loss=actual_loss,\n",
        "              metrics=[actual_loss])"
      ],
      "metadata": {
        "id": "Kv7Y3VF-AhWG"
      },
      "execution_count": null,
      "outputs": [],
      "id": "Kv7Y3VF-AhWG"
    },
    {
      "cell_type": "code",
      "source": [
        "# Entrenamos la red\n",
        "history = model.fit(x[:1000], y[:1000], epochs=30)"
      ],
      "metadata": {
        "colab": {
          "base_uri": "https://localhost:8080/"
        },
        "id": "nwWW_zr2Ahbp",
        "outputId": "625b82d8-009a-4feb-a0d3-ffa124e91047"
      },
      "execution_count": null,
      "outputs": [
        {
          "output_type": "stream",
          "name": "stdout",
          "text": [
            "Epoch 1/30\n",
            "32/32 [==============================] - 2s 17ms/step - loss: 74.9502 - mean_absolute_percentage_error: 74.9502\n",
            "Epoch 2/30\n",
            "32/32 [==============================] - 1s 21ms/step - loss: 44.6761 - mean_absolute_percentage_error: 44.6761\n",
            "Epoch 3/30\n",
            "32/32 [==============================] - 1s 25ms/step - loss: 41.5617 - mean_absolute_percentage_error: 41.5617\n",
            "Epoch 4/30\n",
            "32/32 [==============================] - 1s 18ms/step - loss: 36.8164 - mean_absolute_percentage_error: 36.8164\n",
            "Epoch 5/30\n",
            "32/32 [==============================] - 0s 15ms/step - loss: 29.3090 - mean_absolute_percentage_error: 29.3090\n",
            "Epoch 6/30\n",
            "32/32 [==============================] - 0s 15ms/step - loss: 28.0833 - mean_absolute_percentage_error: 28.0833\n",
            "Epoch 7/30\n",
            "32/32 [==============================] - 1s 16ms/step - loss: 28.0187 - mean_absolute_percentage_error: 28.0187\n",
            "Epoch 8/30\n",
            "32/32 [==============================] - 0s 15ms/step - loss: 25.9156 - mean_absolute_percentage_error: 25.9156\n",
            "Epoch 9/30\n",
            "32/32 [==============================] - 1s 16ms/step - loss: 26.2256 - mean_absolute_percentage_error: 26.2256\n",
            "Epoch 10/30\n",
            "32/32 [==============================] - 0s 15ms/step - loss: 25.5374 - mean_absolute_percentage_error: 25.5374\n",
            "Epoch 11/30\n",
            "32/32 [==============================] - 1s 16ms/step - loss: 25.4591 - mean_absolute_percentage_error: 25.4591\n",
            "Epoch 12/30\n",
            "32/32 [==============================] - 1s 16ms/step - loss: 25.6686 - mean_absolute_percentage_error: 25.6686\n",
            "Epoch 13/30\n",
            "32/32 [==============================] - 0s 15ms/step - loss: 24.7178 - mean_absolute_percentage_error: 24.7178\n",
            "Epoch 14/30\n",
            "32/32 [==============================] - 0s 15ms/step - loss: 26.1831 - mean_absolute_percentage_error: 26.1831\n",
            "Epoch 15/30\n",
            "32/32 [==============================] - 1s 18ms/step - loss: 25.4470 - mean_absolute_percentage_error: 25.4470\n",
            "Epoch 16/30\n",
            "32/32 [==============================] - 1s 26ms/step - loss: 23.5552 - mean_absolute_percentage_error: 23.5552\n",
            "Epoch 17/30\n",
            "32/32 [==============================] - 1s 24ms/step - loss: 23.4209 - mean_absolute_percentage_error: 23.4209\n",
            "Epoch 18/30\n",
            "32/32 [==============================] - 1s 26ms/step - loss: 23.5634 - mean_absolute_percentage_error: 23.5634\n",
            "Epoch 19/30\n",
            "32/32 [==============================] - 1s 20ms/step - loss: 23.3741 - mean_absolute_percentage_error: 23.3741\n",
            "Epoch 20/30\n",
            "32/32 [==============================] - 1s 16ms/step - loss: 22.0353 - mean_absolute_percentage_error: 22.0353\n",
            "Epoch 21/30\n",
            "32/32 [==============================] - 1s 16ms/step - loss: 22.0394 - mean_absolute_percentage_error: 22.0394\n",
            "Epoch 22/30\n",
            "32/32 [==============================] - 1s 16ms/step - loss: 22.5582 - mean_absolute_percentage_error: 22.5582\n",
            "Epoch 23/30\n",
            "32/32 [==============================] - 1s 16ms/step - loss: 21.5534 - mean_absolute_percentage_error: 21.5534\n",
            "Epoch 24/30\n",
            "32/32 [==============================] - 0s 15ms/step - loss: 20.7218 - mean_absolute_percentage_error: 20.7218\n",
            "Epoch 25/30\n",
            "32/32 [==============================] - 1s 16ms/step - loss: 20.2205 - mean_absolute_percentage_error: 20.2205\n",
            "Epoch 26/30\n",
            "32/32 [==============================] - 0s 15ms/step - loss: 20.6646 - mean_absolute_percentage_error: 20.6646\n",
            "Epoch 27/30\n",
            "32/32 [==============================] - 1s 16ms/step - loss: 21.8186 - mean_absolute_percentage_error: 21.8186\n",
            "Epoch 28/30\n",
            "32/32 [==============================] - 1s 16ms/step - loss: 20.7446 - mean_absolute_percentage_error: 20.7446\n",
            "Epoch 29/30\n",
            "32/32 [==============================] - 1s 17ms/step - loss: 19.1455 - mean_absolute_percentage_error: 19.1455\n",
            "Epoch 30/30\n",
            "32/32 [==============================] - 1s 16ms/step - loss: 19.9907 - mean_absolute_percentage_error: 19.9907\n"
          ]
        }
      ],
      "id": "nwWW_zr2Ahbp"
    },
    {
      "cell_type": "markdown",
      "id": "22d5229a-67db-44b9-ace7-a7878b6ca373",
      "metadata": {
        "id": "22d5229a-67db-44b9-ace7-a7878b6ca373"
      },
      "source": [
        "### <font color=\"#004D7F\" size=4>Ejercicio 5</font>\n",
        "Compara los resultados obtenidos en cada una de las arquitecturas definidas y quédate con la mejor. **¿En qué experimento se obtiene los mejores resultados?**\n",
        "\n",
        "La arquitectura elegida la usaremos en el caso práctico para seguir ajustando nuestro modelo y alcanzar un buen rendimiento."
      ]
    },
    {
      "cell_type": "markdown",
      "source": [
        "Hemos probado si con un pequeño conjunto de datos nuestra red aprendía y era una buena arquitectura. En los 4 casos veíamos que es así. La función de pérdida va disminuyendo en los 4 ejercicios en cada epoch de entrenamiento, mostrándonos que el modelo está ajustando sus pesos para minimizar la diferencia entre los valores predichos y los valores reales del conjunto de datos de entrenamiento.\n",
        "\n",
        "Hemos obtenido los siguientes resultados en la última etapa del entrenamiento en cada ejercicio:\n",
        "\n",
        "```\n",
        "- Modelo 1: 44.71 MAPE\n",
        "- Modelo 2: 28.81 MAPE\n",
        "- Modelo 3: 25.63 MAPE\n",
        "- Modelo 4: 19.99 MAPE\n",
        "```\n",
        "\n",
        "En este caso, atendiendo a la loss y a la métrica utilizada (MAPE), nuestro mejor modelo sería el que hemos empleado en el \"Ejercicio 4\" ya que es el que muestra los valores más bajos de los modelos presentados."
      ],
      "metadata": {
        "id": "hjP168v-Em2Y"
      },
      "id": "hjP168v-Em2Y"
    },
    {
      "cell_type": "markdown",
      "id": "2f38ec3e-3d9e-4b52-a9c2-40a4f8857e6f",
      "metadata": {
        "id": "2f38ec3e-3d9e-4b52-a9c2-40a4f8857e6f"
      },
      "source": [
        "## 3. Elegimos un Optimizer."
      ]
    },
    {
      "cell_type": "markdown",
      "id": "ed8c324c-5701-442e-9127-e1891e88e475",
      "metadata": {
        "id": "ed8c324c-5701-442e-9127-e1891e88e475"
      },
      "source": [
        "Hemos establecido Adam en los entrenamientos anteriores. Vamos a comprobarlo para el conjunto de validación como funciona y después probaremos a usar un optimizador SGD."
      ]
    },
    {
      "cell_type": "markdown",
      "id": "17f6353c-328c-46ab-8b48-53ad5da43948",
      "metadata": {
        "tags": [],
        "id": "17f6353c-328c-46ab-8b48-53ad5da43948"
      },
      "source": [
        "### <font color=\"#004D7F\" size=4>Ejercicio 6</font>\n",
        "\n",
        "Usa la mejor arquitectura y configuración de entrenamiento de los ejercicios anteriores y entrena con la siguiente configuración:\n",
        "\n",
        "- Usa un `validation_split` de 0.2\n",
        "- Utiliza todos los datos y no solo 1000.\n",
        "- Usa 5 epochs en total."
      ]
    },
    {
      "cell_type": "code",
      "execution_count": null,
      "id": "7bdad0c5-e32f-42c3-a00b-8adae93b2997",
      "metadata": {
        "id": "7bdad0c5-e32f-42c3-a00b-8adae93b2997"
      },
      "outputs": [],
      "source": [
        "# Construimos la red del \"Ejercicio 4\" nuevamente\n",
        "model = tf.keras.models.Sequential([\n",
        "    tf.keras.layers.Input(shape=(9,)),  # Capa de entrada con la dimensión de los datos\n",
        "    tf.keras.layers.Dense(1024, activation='relu'),\n",
        "    tf.keras.layers.Dense(512, activation='relu'),\n",
        "    tf.keras.layers.Dense(256, activation='relu'),\n",
        "    tf.keras.layers.Dense(128, activation='relu'),\n",
        "    tf.keras.layers.Dense(64, activation='relu'),\n",
        "    tf.keras.layers.Dense(32, activation='relu'),\n",
        "    tf.keras.layers.Dense(16, activation='relu'),\n",
        "    tf.keras.layers.Dense(1)  # Capa de salida con una neurona sin función de activación\n",
        "])"
      ]
    },
    {
      "cell_type": "code",
      "source": [
        "# Compilamos la red\n",
        "model.compile(optimizer=tf.keras.optimizers.Adam(learning_rate=0.001),\n",
        "              loss=actual_loss,\n",
        "              metrics=[actual_loss])"
      ],
      "metadata": {
        "id": "4Ke1qsURF_cu"
      },
      "execution_count": null,
      "outputs": [],
      "id": "4Ke1qsURF_cu"
    },
    {
      "cell_type": "code",
      "source": [
        "# Entrenamos la red con la nueva configuración\n",
        "history = model.fit(x, y, validation_split=0.2, epochs=5)"
      ],
      "metadata": {
        "colab": {
          "base_uri": "https://localhost:8080/"
        },
        "id": "_dHi0OaKF69A",
        "outputId": "23e14ca3-dc05-4208-da45-ed1d8d9b5194"
      },
      "id": "_dHi0OaKF69A",
      "execution_count": null,
      "outputs": [
        {
          "output_type": "stream",
          "name": "stdout",
          "text": [
            "Epoch 1/5\n",
            "511/511 [==============================] - 11s 19ms/step - loss: 47.1833 - mean_absolute_percentage_error: 47.1833 - val_loss: 46.8983 - val_mean_absolute_percentage_error: 46.8983\n",
            "Epoch 2/5\n",
            "511/511 [==============================] - 10s 20ms/step - loss: 40.6034 - mean_absolute_percentage_error: 40.6034 - val_loss: 44.5112 - val_mean_absolute_percentage_error: 44.5112\n",
            "Epoch 3/5\n",
            "511/511 [==============================] - 11s 22ms/step - loss: 37.1186 - mean_absolute_percentage_error: 37.1186 - val_loss: 38.8808 - val_mean_absolute_percentage_error: 38.8808\n",
            "Epoch 4/5\n",
            "511/511 [==============================] - 9s 18ms/step - loss: 34.5064 - mean_absolute_percentage_error: 34.5064 - val_loss: 35.7490 - val_mean_absolute_percentage_error: 35.7490\n",
            "Epoch 5/5\n",
            "511/511 [==============================] - 9s 18ms/step - loss: 33.1874 - mean_absolute_percentage_error: 33.1874 - val_loss: 35.7748 - val_mean_absolute_percentage_error: 35.7748\n"
          ]
        }
      ]
    },
    {
      "cell_type": "markdown",
      "id": "56a927c1-3ca7-431a-90d1-e9554c0d6dcb",
      "metadata": {
        "tags": [],
        "id": "56a927c1-3ca7-431a-90d1-e9554c0d6dcb"
      },
      "source": [
        "### <font color=\"#004D7F\" size=4>Ejercicio 7</font>\n",
        "\n",
        "Realiza el mismo entrenamiento que el ejercicio anterior pero usa un optimizador **SGD** en lugar de un Adam."
      ]
    },
    {
      "cell_type": "code",
      "source": [
        "# Compilamos la red con el optimizador SGD\n",
        "model.compile(optimizer=tf.keras.optimizers.SGD(learning_rate=0.001),\n",
        "              loss=actual_loss,\n",
        "              metrics=[actual_loss])"
      ],
      "metadata": {
        "id": "kZLFSO0bKNMg"
      },
      "execution_count": null,
      "outputs": [],
      "id": "kZLFSO0bKNMg"
    },
    {
      "cell_type": "code",
      "source": [
        "# Entrenamos la red\n",
        "history = model.fit(x, y, validation_split=0.2, epochs=5)"
      ],
      "metadata": {
        "colab": {
          "base_uri": "https://localhost:8080/"
        },
        "outputId": "bff12808-2c0d-4150-f713-70a7a0aa2aa4",
        "id": "7-kvT42KKNMg"
      },
      "execution_count": null,
      "outputs": [
        {
          "output_type": "stream",
          "name": "stdout",
          "text": [
            "Epoch 1/5\n",
            "511/511 [==============================] - 9s 16ms/step - loss: 87.0331 - mean_absolute_percentage_error: 87.0331 - val_loss: 56.5812 - val_mean_absolute_percentage_error: 56.5812\n",
            "Epoch 2/5\n",
            "511/511 [==============================] - 7s 13ms/step - loss: 56.5113 - mean_absolute_percentage_error: 56.5113 - val_loss: 56.4642 - val_mean_absolute_percentage_error: 56.4642\n",
            "Epoch 3/5\n",
            "511/511 [==============================] - 7s 14ms/step - loss: 55.9142 - mean_absolute_percentage_error: 55.9142 - val_loss: 55.6040 - val_mean_absolute_percentage_error: 55.6040\n",
            "Epoch 4/5\n",
            "511/511 [==============================] - 7s 13ms/step - loss: 53.5268 - mean_absolute_percentage_error: 53.5268 - val_loss: 51.9309 - val_mean_absolute_percentage_error: 51.9309\n",
            "Epoch 5/5\n",
            "511/511 [==============================] - 8s 15ms/step - loss: 49.4893 - mean_absolute_percentage_error: 49.4893 - val_loss: 53.5672 - val_mean_absolute_percentage_error: 53.5672\n"
          ]
        }
      ],
      "id": "7-kvT42KKNMg"
    },
    {
      "cell_type": "markdown",
      "id": "e1964d40-54a1-4b33-83d0-f0102ffbc267",
      "metadata": {
        "tags": [],
        "id": "e1964d40-54a1-4b33-83d0-f0102ffbc267"
      },
      "source": [
        "### <font color=\"#004D7F\" size=4>Ejercicio 8</font>\n",
        "\n",
        "**¿Qué optimizador ha funcionado mejor?**\n",
        "\n",
        "El optimizador que eligas tendrás que usarlo en los siguientes ejercicios."
      ]
    },
    {
      "cell_type": "markdown",
      "source": [
        "Vemos que hemos obtenido mejores resultados con el optimizador Adam, porque ha logrado una pérdida y un MAPE más bajo que el optimizador SGD. Vemos los resultados:\n",
        "\n",
        "```\n",
        "Adam:\n",
        "Loss: 33.18 ; MAPE: 33.18\n",
        "\n",
        "SGD:\n",
        "Loss: 49.48 ; MAPE: 44.48\n",
        "```\n",
        "Por lo que elegimos el optimizador Adam para los siguientes ejercicios."
      ],
      "metadata": {
        "id": "pJzlmZ-5L0z-"
      },
      "id": "pJzlmZ-5L0z-"
    },
    {
      "cell_type": "markdown",
      "id": "77b03e79-c55c-48dd-815b-26536ed2923d",
      "metadata": {
        "id": "77b03e79-c55c-48dd-815b-26536ed2923d"
      },
      "source": [
        "## 4. Probar diferentes configuraciones con un número pequeño de epochs.\n",
        "\n",
        "Vamos a realizar diferentes experimentos cambiando el learning rate de nuestro optimizador."
      ]
    },
    {
      "cell_type": "markdown",
      "id": "5c01a951-e821-4346-b159-0bce6f98b133",
      "metadata": {
        "tags": [],
        "id": "5c01a951-e821-4346-b159-0bce6f98b133"
      },
      "source": [
        "### <font color=\"#004D7F\" size=4>Ejercicio 9</font>\n",
        "\n",
        "Realiza un entrenamiento con la arquitectura y el optimizador que mejor te ha funcionado y utilizar un **learning rate de 0.1**."
      ]
    },
    {
      "cell_type": "code",
      "execution_count": null,
      "metadata": {
        "id": "gDC-BDogjP-s"
      },
      "outputs": [],
      "source": [
        "# Construimos la red del \"Ejercicio 4\"\n",
        "model = tf.keras.models.Sequential([\n",
        "    tf.keras.layers.Input(shape=(9,)),  # Capa de entrada con la dimensión de los datos\n",
        "    tf.keras.layers.Dense(1024, activation='relu'),\n",
        "    tf.keras.layers.Dense(512, activation='relu'),\n",
        "    tf.keras.layers.Dense(256, activation='relu'),\n",
        "    tf.keras.layers.Dense(128, activation='relu'),\n",
        "    tf.keras.layers.Dense(64, activation='relu'),\n",
        "    tf.keras.layers.Dense(32, activation='relu'),\n",
        "    tf.keras.layers.Dense(16, activation='relu'),\n",
        "    tf.keras.layers.Dense(1)  # Capa de salida con una neurona sin función de activación\n",
        "])"
      ],
      "id": "gDC-BDogjP-s"
    },
    {
      "cell_type": "code",
      "source": [
        "# Compilamos la red con el optimizador Adam y el nuevo learning rate de 0.1\n",
        "model.compile(optimizer=tf.keras.optimizers.Adam(learning_rate=0.1),\n",
        "              loss=actual_loss,\n",
        "              metrics=[actual_loss])"
      ],
      "metadata": {
        "id": "8bvk50HycdVw"
      },
      "execution_count": null,
      "outputs": [],
      "id": "8bvk50HycdVw"
    },
    {
      "cell_type": "code",
      "source": [
        "# Entrenamos la red con la nueva configuración\n",
        "history = model.fit(x, y, validation_split=0.2, epochs=5)"
      ],
      "metadata": {
        "colab": {
          "base_uri": "https://localhost:8080/"
        },
        "outputId": "691c7392-4dd4-4317-c66e-35f71724161f",
        "id": "LLuAPwEUcdVw"
      },
      "execution_count": null,
      "outputs": [
        {
          "output_type": "stream",
          "name": "stdout",
          "text": [
            "Epoch 1/5\n",
            "511/511 [==============================] - 11s 18ms/step - loss: 125.2602 - mean_absolute_percentage_error: 125.2602 - val_loss: 48.1692 - val_mean_absolute_percentage_error: 48.1692\n",
            "Epoch 2/5\n",
            "511/511 [==============================] - 10s 19ms/step - loss: 44.7913 - mean_absolute_percentage_error: 44.7913 - val_loss: 46.8386 - val_mean_absolute_percentage_error: 46.8386\n",
            "Epoch 3/5\n",
            "511/511 [==============================] - 8s 16ms/step - loss: 42.4817 - mean_absolute_percentage_error: 42.4817 - val_loss: 43.1592 - val_mean_absolute_percentage_error: 43.1592\n",
            "Epoch 4/5\n",
            "511/511 [==============================] - 9s 18ms/step - loss: 40.1237 - mean_absolute_percentage_error: 40.1237 - val_loss: 38.0881 - val_mean_absolute_percentage_error: 38.0881\n",
            "Epoch 5/5\n",
            "511/511 [==============================] - 9s 18ms/step - loss: 39.8143 - mean_absolute_percentage_error: 39.8143 - val_loss: 45.2023 - val_mean_absolute_percentage_error: 45.2023\n"
          ]
        }
      ],
      "id": "LLuAPwEUcdVw"
    },
    {
      "cell_type": "markdown",
      "id": "464a5792-743d-43f6-8cdd-651ad86309a1",
      "metadata": {
        "tags": [],
        "id": "464a5792-743d-43f6-8cdd-651ad86309a1"
      },
      "source": [
        "### <font color=\"#004D7F\" size=4>Ejercicio 10</font>\n",
        "\n",
        "Realiza el mismo entrenamiento que el ejercicio anterior pero esta vez usa un **learning rate de 0.0001**."
      ]
    },
    {
      "cell_type": "code",
      "execution_count": null,
      "metadata": {
        "id": "xUyDMXKbjh1S"
      },
      "outputs": [],
      "source": [
        "# Construimos la red del \"Ejercicio 4\" nuevamente\n",
        "model = tf.keras.models.Sequential([\n",
        "    tf.keras.layers.Input(shape=(9,)),  # Capa de entrada con la dimensión de los datos\n",
        "    tf.keras.layers.Dense(1024, activation='relu'),\n",
        "    tf.keras.layers.Dense(512, activation='relu'),\n",
        "    tf.keras.layers.Dense(256, activation='relu'),\n",
        "    tf.keras.layers.Dense(128, activation='relu'),\n",
        "    tf.keras.layers.Dense(64, activation='relu'),\n",
        "    tf.keras.layers.Dense(32, activation='relu'),\n",
        "    tf.keras.layers.Dense(16, activation='relu'),\n",
        "    tf.keras.layers.Dense(1)  # Capa de salida con una neurona sin función de activación\n",
        "])"
      ],
      "id": "xUyDMXKbjh1S"
    },
    {
      "cell_type": "code",
      "execution_count": null,
      "id": "fc098f90-e0e6-4984-8d2c-daf290f41f49",
      "metadata": {
        "id": "fc098f90-e0e6-4984-8d2c-daf290f41f49"
      },
      "outputs": [],
      "source": [
        "# Compilamos la red con el optimizador Adam y el nuevo learning rate de 0.0001\n",
        "model.compile(optimizer=tf.keras.optimizers.Adam(learning_rate=0.0001),\n",
        "              loss=actual_loss,\n",
        "              metrics=[actual_loss])"
      ]
    },
    {
      "cell_type": "code",
      "source": [
        "# Entrenamos la red con la nueva configuración\n",
        "history = model.fit(x, y, validation_split=0.2, epochs=5)"
      ],
      "metadata": {
        "colab": {
          "base_uri": "https://localhost:8080/"
        },
        "outputId": "e00cf351-0986-4671-a45e-c5f3c7728cda",
        "id": "kGaTOfR7ehXf"
      },
      "execution_count": null,
      "outputs": [
        {
          "output_type": "stream",
          "name": "stdout",
          "text": [
            "Epoch 1/5\n",
            "511/511 [==============================] - 37s 17ms/step - loss: 65.3867 - mean_absolute_percentage_error: 65.3867 - val_loss: 54.8509 - val_mean_absolute_percentage_error: 54.8509\n",
            "Epoch 2/5\n",
            "511/511 [==============================] - 9s 18ms/step - loss: 48.8486 - mean_absolute_percentage_error: 48.8486 - val_loss: 48.4279 - val_mean_absolute_percentage_error: 48.4279\n",
            "Epoch 3/5\n",
            "511/511 [==============================] - 9s 19ms/step - loss: 42.6522 - mean_absolute_percentage_error: 42.6522 - val_loss: 48.0700 - val_mean_absolute_percentage_error: 48.0700\n",
            "Epoch 4/5\n",
            "511/511 [==============================] - 8s 17ms/step - loss: 41.9454 - mean_absolute_percentage_error: 41.9454 - val_loss: 47.4616 - val_mean_absolute_percentage_error: 47.4616\n",
            "Epoch 5/5\n",
            "511/511 [==============================] - 9s 17ms/step - loss: 41.3119 - mean_absolute_percentage_error: 41.3119 - val_loss: 46.7306 - val_mean_absolute_percentage_error: 46.7306\n"
          ]
        }
      ],
      "id": "kGaTOfR7ehXf"
    },
    {
      "cell_type": "markdown",
      "id": "05214e09-3642-488e-9499-1659520cb329",
      "metadata": {
        "id": "05214e09-3642-488e-9499-1659520cb329"
      },
      "source": [
        "## 5. Ajuste refinado de los parámetros con más epochs. [Opcional]\n",
        "\n",
        "Por último vamos a realizar un entrenamiento más largo para ver hasta donde llega el rendimiento de nuestro modelo."
      ]
    },
    {
      "cell_type": "markdown",
      "id": "bce78f8d-3b8e-4450-8d7e-3545682b87e6",
      "metadata": {
        "tags": [],
        "id": "bce78f8d-3b8e-4450-8d7e-3545682b87e6"
      },
      "source": [
        "### <font color=\"#004D7F\" size=4>Ejercicio 11 [Opcional]</font>\n",
        "\n",
        "**¿Entre los entrenamientos usando learning rates igual a 0.001, 0.1 y 0.0001 cual ha funcionado mejor?**\n",
        "\n",
        "Con el experimento que mejor haya funcionado haz un entrenamiento usando 30 epochs y ver que tal funciona el entrenamiento con más epochs."
      ]
    },
    {
      "cell_type": "code",
      "source": [
        "# Utilizamos el primer learning rate, el de 0.001, es el que ha funcionado mejor\n",
        "model.compile(optimizer=tf.keras.optimizers.Adam(learning_rate=0.001),\n",
        "              loss=actual_loss,\n",
        "              metrics=[actual_loss])"
      ],
      "metadata": {
        "id": "y8D0HbzOiOmT"
      },
      "execution_count": null,
      "outputs": [],
      "id": "y8D0HbzOiOmT"
    },
    {
      "cell_type": "code",
      "source": [
        "# Entrenamos la red\n",
        "history = model.fit(x, y, validation_split=0.2, epochs=30)"
      ],
      "metadata": {
        "colab": {
          "base_uri": "https://localhost:8080/"
        },
        "outputId": "950ba372-e0d2-4d73-d0fa-c728c0e3e622",
        "id": "M5STMUGOiOmV"
      },
      "execution_count": null,
      "outputs": [
        {
          "output_type": "stream",
          "name": "stdout",
          "text": [
            "Epoch 1/30\n",
            "511/511 [==============================] - 11s 19ms/step - loss: 47.4295 - mean_absolute_percentage_error: 47.4295 - val_loss: 47.2143 - val_mean_absolute_percentage_error: 47.2143\n",
            "Epoch 2/30\n",
            "511/511 [==============================] - 9s 17ms/step - loss: 40.6995 - mean_absolute_percentage_error: 40.6995 - val_loss: 42.9561 - val_mean_absolute_percentage_error: 42.9561\n",
            "Epoch 3/30\n",
            "511/511 [==============================] - 9s 17ms/step - loss: 37.5080 - mean_absolute_percentage_error: 37.5080 - val_loss: 38.2923 - val_mean_absolute_percentage_error: 38.2923\n",
            "Epoch 4/30\n",
            "511/511 [==============================] - 10s 19ms/step - loss: 34.9269 - mean_absolute_percentage_error: 34.9269 - val_loss: 36.8488 - val_mean_absolute_percentage_error: 36.8488\n",
            "Epoch 5/30\n",
            "511/511 [==============================] - 8s 16ms/step - loss: 33.2950 - mean_absolute_percentage_error: 33.2950 - val_loss: 36.3365 - val_mean_absolute_percentage_error: 36.3365\n",
            "Epoch 6/30\n",
            "511/511 [==============================] - 9s 17ms/step - loss: 31.7751 - mean_absolute_percentage_error: 31.7751 - val_loss: 32.7147 - val_mean_absolute_percentage_error: 32.7147\n",
            "Epoch 7/30\n",
            "511/511 [==============================] - 10s 19ms/step - loss: 30.6761 - mean_absolute_percentage_error: 30.6761 - val_loss: 31.6170 - val_mean_absolute_percentage_error: 31.6170\n",
            "Epoch 8/30\n",
            "511/511 [==============================] - 9s 17ms/step - loss: 29.9822 - mean_absolute_percentage_error: 29.9822 - val_loss: 30.5857 - val_mean_absolute_percentage_error: 30.5857\n",
            "Epoch 9/30\n",
            "511/511 [==============================] - 8s 16ms/step - loss: 28.7952 - mean_absolute_percentage_error: 28.7952 - val_loss: 35.4354 - val_mean_absolute_percentage_error: 35.4354\n",
            "Epoch 10/30\n",
            "511/511 [==============================] - 9s 18ms/step - loss: 28.7686 - mean_absolute_percentage_error: 28.7686 - val_loss: 34.1745 - val_mean_absolute_percentage_error: 34.1745\n",
            "Epoch 11/30\n",
            "511/511 [==============================] - 9s 18ms/step - loss: 28.5227 - mean_absolute_percentage_error: 28.5227 - val_loss: 34.0994 - val_mean_absolute_percentage_error: 34.0994\n",
            "Epoch 12/30\n",
            "511/511 [==============================] - 8s 16ms/step - loss: 27.8478 - mean_absolute_percentage_error: 27.8478 - val_loss: 37.4675 - val_mean_absolute_percentage_error: 37.4675\n",
            "Epoch 13/30\n",
            "511/511 [==============================] - 9s 18ms/step - loss: 28.3939 - mean_absolute_percentage_error: 28.3939 - val_loss: 27.3678 - val_mean_absolute_percentage_error: 27.3678\n",
            "Epoch 14/30\n",
            "511/511 [==============================] - 9s 18ms/step - loss: 27.2909 - mean_absolute_percentage_error: 27.2909 - val_loss: 27.7189 - val_mean_absolute_percentage_error: 27.7189\n",
            "Epoch 15/30\n",
            "511/511 [==============================] - 9s 17ms/step - loss: 27.1428 - mean_absolute_percentage_error: 27.1428 - val_loss: 28.1753 - val_mean_absolute_percentage_error: 28.1753\n",
            "Epoch 16/30\n",
            "511/511 [==============================] - 11s 22ms/step - loss: 26.5193 - mean_absolute_percentage_error: 26.5193 - val_loss: 30.5909 - val_mean_absolute_percentage_error: 30.5909\n",
            "Epoch 17/30\n",
            "511/511 [==============================] - 11s 21ms/step - loss: 26.8768 - mean_absolute_percentage_error: 26.8768 - val_loss: 26.8405 - val_mean_absolute_percentage_error: 26.8405\n",
            "Epoch 18/30\n",
            "511/511 [==============================] - 10s 20ms/step - loss: 26.7131 - mean_absolute_percentage_error: 26.7131 - val_loss: 31.8632 - val_mean_absolute_percentage_error: 31.8632\n",
            "Epoch 19/30\n",
            "511/511 [==============================] - 9s 17ms/step - loss: 26.1852 - mean_absolute_percentage_error: 26.1852 - val_loss: 35.0640 - val_mean_absolute_percentage_error: 35.0640\n",
            "Epoch 20/30\n",
            "511/511 [==============================] - 9s 18ms/step - loss: 26.1148 - mean_absolute_percentage_error: 26.1148 - val_loss: 27.5578 - val_mean_absolute_percentage_error: 27.5578\n",
            "Epoch 21/30\n",
            "511/511 [==============================] - 9s 18ms/step - loss: 25.7159 - mean_absolute_percentage_error: 25.7159 - val_loss: 25.6579 - val_mean_absolute_percentage_error: 25.6579\n",
            "Epoch 22/30\n",
            "511/511 [==============================] - 8s 17ms/step - loss: 26.8892 - mean_absolute_percentage_error: 26.8892 - val_loss: 26.3111 - val_mean_absolute_percentage_error: 26.3111\n",
            "Epoch 23/30\n",
            "511/511 [==============================] - 9s 18ms/step - loss: 25.8888 - mean_absolute_percentage_error: 25.8888 - val_loss: 27.6474 - val_mean_absolute_percentage_error: 27.6474\n",
            "Epoch 24/30\n",
            "511/511 [==============================] - 9s 18ms/step - loss: 26.0655 - mean_absolute_percentage_error: 26.0655 - val_loss: 27.7606 - val_mean_absolute_percentage_error: 27.7606\n",
            "Epoch 25/30\n",
            "511/511 [==============================] - 10s 19ms/step - loss: 25.7488 - mean_absolute_percentage_error: 25.7488 - val_loss: 27.3684 - val_mean_absolute_percentage_error: 27.3684\n",
            "Epoch 26/30\n",
            "511/511 [==============================] - 9s 17ms/step - loss: 25.9781 - mean_absolute_percentage_error: 25.9781 - val_loss: 28.2465 - val_mean_absolute_percentage_error: 28.2465\n",
            "Epoch 27/30\n",
            "511/511 [==============================] - 9s 18ms/step - loss: 25.3532 - mean_absolute_percentage_error: 25.3532 - val_loss: 27.4396 - val_mean_absolute_percentage_error: 27.4396\n",
            "Epoch 28/30\n",
            "511/511 [==============================] - 11s 21ms/step - loss: 25.4367 - mean_absolute_percentage_error: 25.4367 - val_loss: 27.4024 - val_mean_absolute_percentage_error: 27.4024\n",
            "Epoch 29/30\n",
            "511/511 [==============================] - 9s 17ms/step - loss: 25.8368 - mean_absolute_percentage_error: 25.8368 - val_loss: 26.3462 - val_mean_absolute_percentage_error: 26.3462\n",
            "Epoch 30/30\n",
            "511/511 [==============================] - 9s 18ms/step - loss: 25.4046 - mean_absolute_percentage_error: 25.4046 - val_loss: 28.3733 - val_mean_absolute_percentage_error: 28.3733\n"
          ]
        }
      ],
      "id": "M5STMUGOiOmV"
    },
    {
      "cell_type": "markdown",
      "id": "122a9867-c26b-4a60-9990-5676eb76b7b6",
      "metadata": {
        "tags": [],
        "id": "122a9867-c26b-4a60-9990-5676eb76b7b6"
      },
      "source": [
        "### <font color=\"#004D7F\" size=4>Ejercicio 12 [Opcional]</font>\n",
        "\n",
        "Muestra en una gráfica como ha evolucionado el entrenamiento."
      ]
    },
    {
      "cell_type": "code",
      "execution_count": null,
      "id": "4b6ac9ba-15d1-40b1-b052-7b2d1324c0f9",
      "metadata": {
        "colab": {
          "base_uri": "https://localhost:8080/",
          "height": 466
        },
        "id": "4b6ac9ba-15d1-40b1-b052-7b2d1324c0f9",
        "outputId": "0e7cadb9-6412-448d-cc4d-c4282d971415"
      },
      "outputs": [
        {
          "output_type": "execute_result",
          "data": {
            "text/plain": [
              "<matplotlib.legend.Legend at 0x7efcab9a5c70>"
            ]
          },
          "metadata": {},
          "execution_count": 51
        },
        {
          "output_type": "display_data",
          "data": {
            "text/plain": [
              "<Figure size 640x480 with 1 Axes>"
            ],
            "image/png": "[encoded data removed]"
          },
          "metadata": {}
        }
      ],
      "source": [
        "plt.plot(history.history['loss'], label=\"loss\")\n",
        "plt.plot(history.history['val_loss'], label=\"val_loss\")\n",
        "plt.ylabel('loss')\n",
        "plt.xlabel('epoch')\n",
        "plt.legend()"
      ]
    },
    {
      "cell_type": "markdown",
      "source": [
        "Vemos que al comienzo del entrenamiento tanto la función de pérdida del conjunto de entrenamiento como el de validación bajan rápidamente en las primeras epochs. La función de pérdida del entrenamiento baja paulatinamente hasta la última epoch y por lo general, hay un poco más de error en el conjunto de validación etapa a etapa.\n",
        "\n",
        "A partir de la etapa 6 vemos que los valores de la función de pérdida de los datos de validación no bajan de la misma forma que los de entrenamiento. Y en algunos casos, tenemos grandes diferencias entre ambos resultados (significativamente mayores los de validación). El modelo no ha ajustado sus pesos correctamente en esos momentos y no hace predicciones precisas en el conjunto de validación. Poco a poco los pesos se van ajustando y el modelo mejora sus predicciones en ambos conjuntos.\n",
        "\n",
        "Al final del entrenamiento, hemos obtenido un error mayor en la validación que en el entrenamiento. Podríamos decir que nuestro modelo se ha ido ajustando bien a los datos de entrenamiento pero no generaliza tan bien para los datos de validación. Estaríamos sufriendo sobreajuste de los datos de entrenamiento. Para mejorar el rendimiento del modelo, podríamos probar a aplicar técnicas de regularización como el dropout (eliminando algunas neuronas durante el entrenamiento) y otro tipo de soluciones, como por ejemplo, reajustar nuevamente nuestra estructura o utilizar más datos, entre otros."
      ],
      "metadata": {
        "id": "aFx0YlVErCnP"
      },
      "id": "aFx0YlVErCnP"
    }
  ],
  "metadata": {
    "kernelspec": {
      "display_name": "Python 3 (ipykernel)",
      "language": "python",
      "name": "python3"
    },
    "language_info": {
      "codemirror_mode": {
        "name": "ipython",
        "version": 3
      },
      "file_extension": ".py",
      "mimetype": "text/x-python",
      "name": "python",
      "nbconvert_exporter": "python",
      "pygments_lexer": "ipython3",
      "version": "3.8.8"
    },
    "colab": {
      "provenance": [],
      "include_colab_link": true
    }
  },
  "nbformat": 4,
  "nbformat_minor": 5
}